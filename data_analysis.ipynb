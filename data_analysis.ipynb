{
 "cells": [
  {
   "cell_type": "code",
   "execution_count": 1,
   "metadata": {},
   "outputs": [],
   "source": [
    "import pandas as pd"
   ]
  },
  {
   "cell_type": "code",
   "execution_count": 9,
   "metadata": {
    "scrolled": true
   },
   "outputs": [
    {
     "name": "stdout",
     "output_type": "stream",
     "text": [
      "Code\tCrop\n",
      "Fallow\tno crop\n",
      "SB\tspring barley\n",
      "SC\tspring canola\n",
      "SL\tspring legume (chickpea)\n",
      "SP\tspring pea\n",
      "SW\tspring wheat\n",
      "WB\twinter barley\n",
      "WC\twinter canola\n",
      "WL\twinter legume (chickpea)\n",
      "WT\twinter triticale\n",
      "WW\twinter wheat\n"
     ]
    }
   ],
   "source": [
    "# Dataset loading\n",
    "\n",
    "# Reading csv files\n",
    "gddAprOct = pd.read_csv(\"dataset/10_4231_R72F7KK2/Agro-Climatic Data by County/gddAprOct.csv\")\n",
    "gridInfo = pd.read_csv(\"dataset/10_4231_R72F7KK2/Agro-Climatic Data by County/gridInfo.csv\")\n",
    "yielddata = pd.read_csv(\"dataset/10_4231_R72F7KK2/Agro-Climatic Data by County/yielddata.csv\")\n",
    "\n",
    "# Reading txt files\n",
    "txt_data = ''\n",
    "with open('dataset/CAF_Sensor_Dataset_2/CAF_CropCodes.txt','r') as file:\n",
    "    txt_data = file.read()"
   ]
  },
  {
   "cell_type": "code",
   "execution_count": 3,
   "metadata": {
    "scrolled": true
   },
   "outputs": [
    {
     "data": {
      "text/html": [
       "<div>\n",
       "<style scoped>\n",
       "    .dataframe tbody tr th:only-of-type {\n",
       "        vertical-align: middle;\n",
       "    }\n",
       "\n",
       "    .dataframe tbody tr th {\n",
       "        vertical-align: top;\n",
       "    }\n",
       "\n",
       "    .dataframe thead th {\n",
       "        text-align: right;\n",
       "    }\n",
       "</style>\n",
       "<table border=\"1\" class=\"dataframe\">\n",
       "  <thead>\n",
       "    <tr style=\"text-align: right;\">\n",
       "      <th></th>\n",
       "      <th>stco</th>\n",
       "      <th>year</th>\n",
       "      <th>gddm60</th>\n",
       "      <th>gddm59</th>\n",
       "      <th>gddm58</th>\n",
       "      <th>gddm57</th>\n",
       "      <th>gddm56</th>\n",
       "      <th>gddm55</th>\n",
       "      <th>gddm54</th>\n",
       "      <th>gddm53</th>\n",
       "      <th>...</th>\n",
       "      <th>gddp51</th>\n",
       "      <th>gddp52</th>\n",
       "      <th>gddp53</th>\n",
       "      <th>gddp54</th>\n",
       "      <th>gddp55</th>\n",
       "      <th>gddp56</th>\n",
       "      <th>gddp57</th>\n",
       "      <th>gddp58</th>\n",
       "      <th>gddp59</th>\n",
       "      <th>gddp60</th>\n",
       "    </tr>\n",
       "  </thead>\n",
       "  <tbody>\n",
       "    <tr>\n",
       "      <td>0</td>\n",
       "      <td>1001</td>\n",
       "      <td>1981.0</td>\n",
       "      <td>0.0</td>\n",
       "      <td>0.0</td>\n",
       "      <td>0.0</td>\n",
       "      <td>0.0</td>\n",
       "      <td>0.0</td>\n",
       "      <td>0.0</td>\n",
       "      <td>0.0</td>\n",
       "      <td>0.0</td>\n",
       "      <td>...</td>\n",
       "      <td>0.0</td>\n",
       "      <td>0.0</td>\n",
       "      <td>0.0</td>\n",
       "      <td>0.0</td>\n",
       "      <td>0.0</td>\n",
       "      <td>0.0</td>\n",
       "      <td>0.0</td>\n",
       "      <td>0.0</td>\n",
       "      <td>0.0</td>\n",
       "      <td>0.0</td>\n",
       "    </tr>\n",
       "    <tr>\n",
       "      <td>1</td>\n",
       "      <td>1003</td>\n",
       "      <td>1981.0</td>\n",
       "      <td>0.0</td>\n",
       "      <td>0.0</td>\n",
       "      <td>0.0</td>\n",
       "      <td>0.0</td>\n",
       "      <td>0.0</td>\n",
       "      <td>0.0</td>\n",
       "      <td>0.0</td>\n",
       "      <td>0.0</td>\n",
       "      <td>...</td>\n",
       "      <td>0.0</td>\n",
       "      <td>0.0</td>\n",
       "      <td>0.0</td>\n",
       "      <td>0.0</td>\n",
       "      <td>0.0</td>\n",
       "      <td>0.0</td>\n",
       "      <td>0.0</td>\n",
       "      <td>0.0</td>\n",
       "      <td>0.0</td>\n",
       "      <td>0.0</td>\n",
       "    </tr>\n",
       "    <tr>\n",
       "      <td>2</td>\n",
       "      <td>1005</td>\n",
       "      <td>1981.0</td>\n",
       "      <td>0.0</td>\n",
       "      <td>0.0</td>\n",
       "      <td>0.0</td>\n",
       "      <td>0.0</td>\n",
       "      <td>0.0</td>\n",
       "      <td>0.0</td>\n",
       "      <td>0.0</td>\n",
       "      <td>0.0</td>\n",
       "      <td>...</td>\n",
       "      <td>0.0</td>\n",
       "      <td>0.0</td>\n",
       "      <td>0.0</td>\n",
       "      <td>0.0</td>\n",
       "      <td>0.0</td>\n",
       "      <td>0.0</td>\n",
       "      <td>0.0</td>\n",
       "      <td>0.0</td>\n",
       "      <td>0.0</td>\n",
       "      <td>0.0</td>\n",
       "    </tr>\n",
       "    <tr>\n",
       "      <td>3</td>\n",
       "      <td>1007</td>\n",
       "      <td>1981.0</td>\n",
       "      <td>0.0</td>\n",
       "      <td>0.0</td>\n",
       "      <td>0.0</td>\n",
       "      <td>0.0</td>\n",
       "      <td>0.0</td>\n",
       "      <td>0.0</td>\n",
       "      <td>0.0</td>\n",
       "      <td>0.0</td>\n",
       "      <td>...</td>\n",
       "      <td>0.0</td>\n",
       "      <td>0.0</td>\n",
       "      <td>0.0</td>\n",
       "      <td>0.0</td>\n",
       "      <td>0.0</td>\n",
       "      <td>0.0</td>\n",
       "      <td>0.0</td>\n",
       "      <td>0.0</td>\n",
       "      <td>0.0</td>\n",
       "      <td>0.0</td>\n",
       "    </tr>\n",
       "    <tr>\n",
       "      <td>4</td>\n",
       "      <td>1009</td>\n",
       "      <td>1981.0</td>\n",
       "      <td>0.0</td>\n",
       "      <td>0.0</td>\n",
       "      <td>0.0</td>\n",
       "      <td>0.0</td>\n",
       "      <td>0.0</td>\n",
       "      <td>0.0</td>\n",
       "      <td>0.0</td>\n",
       "      <td>0.0</td>\n",
       "      <td>...</td>\n",
       "      <td>0.0</td>\n",
       "      <td>0.0</td>\n",
       "      <td>0.0</td>\n",
       "      <td>0.0</td>\n",
       "      <td>0.0</td>\n",
       "      <td>0.0</td>\n",
       "      <td>0.0</td>\n",
       "      <td>0.0</td>\n",
       "      <td>0.0</td>\n",
       "      <td>0.0</td>\n",
       "    </tr>\n",
       "  </tbody>\n",
       "</table>\n",
       "<p>5 rows × 123 columns</p>\n",
       "</div>"
      ],
      "text/plain": [
       "   stco    year  gddm60  gddm59  gddm58  gddm57  gddm56  gddm55  gddm54  \\\n",
       "0  1001  1981.0     0.0     0.0     0.0     0.0     0.0     0.0     0.0   \n",
       "1  1003  1981.0     0.0     0.0     0.0     0.0     0.0     0.0     0.0   \n",
       "2  1005  1981.0     0.0     0.0     0.0     0.0     0.0     0.0     0.0   \n",
       "3  1007  1981.0     0.0     0.0     0.0     0.0     0.0     0.0     0.0   \n",
       "4  1009  1981.0     0.0     0.0     0.0     0.0     0.0     0.0     0.0   \n",
       "\n",
       "   gddm53  ...  gddp51  gddp52  gddp53  gddp54  gddp55  gddp56  gddp57  \\\n",
       "0     0.0  ...     0.0     0.0     0.0     0.0     0.0     0.0     0.0   \n",
       "1     0.0  ...     0.0     0.0     0.0     0.0     0.0     0.0     0.0   \n",
       "2     0.0  ...     0.0     0.0     0.0     0.0     0.0     0.0     0.0   \n",
       "3     0.0  ...     0.0     0.0     0.0     0.0     0.0     0.0     0.0   \n",
       "4     0.0  ...     0.0     0.0     0.0     0.0     0.0     0.0     0.0   \n",
       "\n",
       "   gddp58  gddp59  gddp60  \n",
       "0     0.0     0.0     0.0  \n",
       "1     0.0     0.0     0.0  \n",
       "2     0.0     0.0     0.0  \n",
       "3     0.0     0.0     0.0  \n",
       "4     0.0     0.0     0.0  \n",
       "\n",
       "[5 rows x 123 columns]"
      ]
     },
     "execution_count": 3,
     "metadata": {},
     "output_type": "execute_result"
    }
   ],
   "source": [
    "# Earlier analysis\n",
    "\n",
    "# Dataset-1\n",
    "gddAprOct.head()\n",
    "gddAprOct['year'].head()\n",
    "gddAprOct['year'].min()\n",
    "gddAprOct['year'].max()\n",
    "gddAprOct.shape\n",
    "gddAprOct['gddm60'].isna().sum()\n",
    "gddAprOct.max().max()\n",
    "len(gddAprOct.loc[gddAprOct['gddm5'] == 0.0])\n",
    "\n",
    "# Dataset-2\n",
    "gridInfo.head()\n",
    "gridInfo.shape\n",
    "\n",
    "# Dataset-3\n",
    "yielddata.head()\n",
    "yielddata['corn'].isna().sum()\n",
    "yielddata.shape"
   ]
  },
  {
   "cell_type": "code",
   "execution_count": 42,
   "metadata": {},
   "outputs": [
    {
     "name": "stdout",
     "output_type": "stream",
     "text": [
      "AxesSubplot(0.125,0.125;0.62x0.755)\n"
     ]
    },
    {
     "data": {
      "image/png": "[encoded data removed]",
      "text/plain": [
       "<Figure size 432x288 with 2 Axes>"
      ]
     },
     "metadata": {
      "needs_background": "light"
     },
     "output_type": "display_data"
    }
   ],
   "source": [
    "import seaborn as sns \n",
    "\n",
    "# Analysis harness\n",
    "analysis_df = gddAprOct\n",
    "\n",
    "# To show different metrics\n",
    "# analysis_df.info()\n",
    "# analysis_df.describe()\n",
    "\n",
    "# To get null values\n",
    "# analysis_df.isnull().sum()\n",
    "\n",
    "# Finding co-relation\n",
    "# correlation_matrix = analysis_df.corr().round(2)\n",
    "# sns.heatmap(data=correlation_matrix, annot=True)"
   ]
  },
  {
   "cell_type": "code",
   "execution_count": 35,
   "metadata": {},
   "outputs": [],
   "source": [
    "# converts txt to csv files\n",
    "import csv \n",
    "\n",
    "def txt_to_csv(txt_file):\n",
    "    csv_file = txt_file.split('/')[-1].split('.')[0] + '.csv'\n",
    "    csv_file = '/'.join(txt_file.split('/')[:-1]) + '/' + csv_file\n",
    "    \n",
    "    inp_data = list()\n",
    "    with open(txt_file, 'r') as in_file:\n",
    "        stripped = (line.strip() for line in in_file)\n",
    "        inp_data = [line.split(\"\\t\") for line in stripped if line]\n",
    "    \n",
    "    # creating dataframe\n",
    "    df = pd.DataFrame(inp_data[1:-2], columns=inp_data[0])\n",
    "    print(df.head())\n",
    "    df.to_csv(csv_file)"
   ]
  },
  {
   "cell_type": "code",
   "execution_count": 36,
   "metadata": {
    "scrolled": true
   },
   "outputs": [
    {
     "name": "stdout",
     "output_type": "stream",
     "text": [
      "  Field Strip Y2007   Y2008 Y2009 Y2010 Y2011 Y2012 Y2013 Y2014 Y2015 Y2016\n",
      "0     A     1    WT      SW    WW    WW    SL    WW    WW    SL    WW    SC\n",
      "1     B     1    SW      WW    SC    SL    WW    WW    SL    WW    SC    SC\n",
      "2     C     1    WW  Fallow    WC    WW    SW    SL    WW    SW    SL   WW*\n",
      "3     A     2    WL      SW    WW    SW    SL    WW    SW    SL    WW    SC\n",
      "4     B     2    SW      WW    WP    SL    WW    WW    SL    WW    SC    SC\n"
     ]
    }
   ],
   "source": [
    "txt_to_csv('dataset/CAF_Sensor_Dataset_2/CAF_CropID.txt')"
   ]
  }
 ],
 "metadata": {
  "kernelspec": {
   "display_name": "Python 3",
   "language": "python",
   "name": "python3"
  },
  "language_info": {
   "codemirror_mode": {
    "name": "ipython",
    "version": 3
   },
   "file_extension": ".py",
   "mimetype": "text/x-python",
   "name": "python",
   "nbconvert_exporter": "python",
   "pygments_lexer": "ipython3",
   "version": "3.7.4"
  }
 },
 "nbformat": 4,
 "nbformat_minor": 2
}
